{
 "cells": [
  {
   "cell_type": "code",
   "execution_count": 1,
   "metadata": {},
   "outputs": [
    {
     "name": "stderr",
     "output_type": "stream",
     "text": [
      "/usr/local/lib/python3.5/dist-packages/h5py/__init__.py:36: FutureWarning: Conversion of the second argument of issubdtype from `float` to `np.floating` is deprecated. In future, it will be treated as `np.float64 == np.dtype(float).type`.\n",
      "  from ._conv import register_converters as _register_converters\n",
      "Using TensorFlow backend.\n"
     ]
    }
   ],
   "source": [
    "import os\n",
    "import fnmatch\n",
    "\n",
    "import loadData as ld\n",
    "\n",
    "import string\n",
    "from nltk.corpus import stopwords\n",
    "from nltk.stem.wordnet import WordNetLemmatizer\n",
    "\n",
    "from sklearn.feature_extraction.text import TfidfVectorizer\n",
    "\n",
    "# calculate accuracy of class predictions\n",
    "from sklearn import metrics\n",
    "\n",
    "from sklearn.model_selection import train_test_split"
   ]
  },
  {
   "cell_type": "code",
   "execution_count": 2,
   "metadata": {},
   "outputs": [],
   "source": [
    "stop = set(stopwords.words('english'))\n",
    "exclude = set(string.punctuation)\n",
    "lemma = WordNetLemmatizer()\n",
    "def clean(doc):\n",
    "    stop_free = \" \".join([i for i in doc.lower().split() if i not in stop])\n",
    "    punc_free = ''.join(ch for ch in stop_free if ch not in exclude)\n",
    "    normalized = \" \".join(lemma.lemmatize(word) for word in punc_free.split())\n",
    "    return normalized\n"
   ]
  },
  {
   "cell_type": "code",
   "execution_count": 3,
   "metadata": {},
   "outputs": [
    {
     "name": "stdout",
     "output_type": "stream",
     "text": [
      "Topic :  ../data/bbc/sport  associé à :  0\n",
      "Topic :  ../data/bbc/tech  associé à :  1\n",
      "Topic :  ../data/bbc/business  associé à :  2\n",
      "Topic :  ../data/bbc/entertainment  associé à :  3\n",
      "Topic :  ../data/bbc/politics  associé à :  4\n"
     ]
    },
    {
     "name": "stderr",
     "output_type": "stream",
     "text": [
      "/usr/local/lib/python3.5/dist-packages/sklearn/model_selection/_split.py:2026: FutureWarning: From version 0.21, test_size will always complement train_size unless both are specified.\n",
      "  FutureWarning)\n"
     ]
    }
   ],
   "source": [
    "topicNumber = -1\n",
    "lastTopic = \"\"\n",
    "\n",
    "data = []\n",
    "\n",
    "x_test = []\n",
    "y_test = []\n",
    "\n",
    "for dirpath, dirs, files in os.walk('../data/bbc'):\n",
    "    for filename in fnmatch.filter(files, '*.txt'):\n",
    "        if(lastTopic != dirpath):\n",
    "            topicNumber += 1\n",
    "            lastTopic = dirpath\n",
    "            print(\"Topic : \", lastTopic, \" associé à : \", topicNumber)\n",
    "            \n",
    "        with open(os.path.join(dirpath, filename), encoding=\"ISO-8859-1\") as f:\n",
    "            data.append((clean(f.read()), topicNumber))\n",
    "            \n",
    "data_train, data_test =  train_test_split(data, train_size=0.95)\n",
    "\n",
    "#Unzip the list of tuple into two list\n",
    "x_train, y_train = zip(*data_train)\n",
    "x_test, y_test = zip(*data_test)\n"
   ]
  },
  {
   "cell_type": "code",
   "execution_count": 4,
   "metadata": {},
   "outputs": [],
   "source": [
    "tfidf_vectorizer = TfidfVectorizer(max_df=0.95, min_df=4)\n",
    "x_train_tfidf = tfidf_vectorizer.fit_transform(x_train)\n",
    "\n",
    "x_test_tfidf = tfidf_vectorizer.transform(x_test)"
   ]
  },
  {
   "cell_type": "code",
   "execution_count": 5,
   "metadata": {},
   "outputs": [],
   "source": [
    "#prediction\n",
    "from sklearn.naive_bayes import MultinomialNB\n",
    "\n",
    "clf = MultinomialNB().fit(x_train_tfidf, y_train)"
   ]
  },
  {
   "cell_type": "code",
   "execution_count": 6,
   "metadata": {},
   "outputs": [
    {
     "name": "stdout",
     "output_type": "stream",
     "text": [
      "1.0\n"
     ]
    }
   ],
   "source": [
    "predicted = clf.predict(x_test_tfidf)\n",
    "\n",
    "print(metrics.accuracy_score(y_test, predicted))"
   ]
  },
  {
   "cell_type": "code",
   "execution_count": 7,
   "metadata": {},
   "outputs": [
    {
     "data": {
      "text/plain": [
       "(112, 9829)"
      ]
     },
     "execution_count": 7,
     "metadata": {},
     "output_type": "execute_result"
    }
   ],
   "source": [
    "x_test_tfidf.shape"
   ]
  },
  {
   "cell_type": "code",
   "execution_count": 9,
   "metadata": {},
   "outputs": [
    {
     "data": {
      "text/plain": [
       "Counter({0: 13420, 1: 9907, 2: 19690, 3: 12885, 4: 36677})"
      ]
     },
     "execution_count": 9,
     "metadata": {},
     "output_type": "execute_result"
    }
   ],
   "source": [
    "#Sort CNN data into topics \n",
    "import tarfile\n",
    "import shutil\n",
    "import collections\n",
    "\n",
    "directory = \"../data/cnn/stories\"\n",
    "stat = []\n",
    "    \n",
    "for name in os.listdir(directory):\n",
    "        filename = directory + '/' + name\n",
    "        # load document\n",
    "        doc = ld.load_doc(filename)\n",
    "        \n",
    "        # split into story and highlights\n",
    "        story, _ = ld.split_story(doc)\n",
    "        tfidf_cnn = tfidf_vectorizer.transform([clean(story)])\n",
    "        predicted_cnn = clf.predict(tfidf_cnn)\n",
    "        \n",
    "        if(predicted_cnn[0] == 0):\n",
    "            shutil.copy2(filename, \"../data/classification/sport\")\n",
    "        elif(predicted_cnn[0] == 1):\n",
    "            shutil.copy2(filename, \"../data/classification/tech\")\n",
    "        elif(predicted_cnn[0] == 2):\n",
    "            shutil.copy2(filename, \"../data/classification/business\")\n",
    "        elif(predicted_cnn[0] == 3):\n",
    "            shutil.copy2(filename, \"../data/classification/entertainment\")\n",
    "        else:\n",
    "            shutil.copy2(filename, \"../data/classification/politics\")\n",
    "            \n",
    "        stat.append(predicted_cnn[0])\n",
    "            \n",
    "collections.Counter(stat)\n"
   ]
  },
  {
   "cell_type": "code",
   "execution_count": null,
   "metadata": {},
   "outputs": [],
   "source": [
    "story"
   ]
  },
  {
   "cell_type": "code",
   "execution_count": null,
   "metadata": {},
   "outputs": [],
   "source": []
  }
 ],
 "metadata": {
  "kernelspec": {
   "display_name": "Python 3",
   "language": "python",
   "name": "python3"
  },
  "language_info": {
   "codemirror_mode": {
    "name": "ipython",
    "version": 3
   },
   "file_extension": ".py",
   "mimetype": "text/x-python",
   "name": "python",
   "nbconvert_exporter": "python",
   "pygments_lexer": "ipython3",
   "version": "3.5.2"
  }
 },
 "nbformat": 4,
 "nbformat_minor": 2
}
